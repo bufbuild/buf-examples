{
 "cells": [
  {
   "cell_type": "markdown",
   "id": "2b3b8256-432a-46a8-8542-837777aada52",
   "metadata": {},
   "source": [
    "# Bufstream Iceberg quickstart"
   ]
  },
  {
   "cell_type": "code",
   "execution_count": null,
   "id": "e4d27656-867c-464e-a8c0-4b590fd7aae2",
   "metadata": {},
   "outputs": [],
   "source": [
    "from pyspark.sql import SparkSession\n",
    "\n",
    "conf = (\n",
    "    pyspark.SparkConf()\n",
    "        .setAppName('Jupyter')\n",
    "        .set(\"spark.sql.extensions\", \"org.apache.iceberg.spark.extensions.IcebergSparkSessionExtensions\")\n",
    "        .set(\"spark.sql.catalog.bufstream-quickstart\", \"org.apache.iceberg.spark.SparkCatalog\")\n",
    "        .set(\"spark.sql.catalog.bufstream-quickstart.type\", \"rest\")\n",
    "        .set(\"spark.sql.catalog.bufstream-quickstart.uri\", \"http://iceberg-rest:8181\")\n",
    ")\n",
    "spark = SparkSession.builder.config(conf=conf).getOrCreate()\n"
   ]
  },
  {
   "cell_type": "code",
   "execution_count": null,
   "id": "892051d1-71da-44d2-9e20-3915988e205e",
   "metadata": {},
   "outputs": [],
   "source": [
    "%%sql \n",
    "SHOW DATABASES;"
   ]
  },
  {
   "cell_type": "code",
   "execution_count": null,
   "id": "345f8fef-9d1f-4cc5-8015-babdf4102988",
   "metadata": {},
   "outputs": [],
   "source": [
    "%%sql\n",
    "SHOW TABLES in `bufstream`"
   ]
  },
  {
   "cell_type": "code",
   "execution_count": 8,
   "id": "636906ad-2525-4460-a5db-544c829bc569",
   "metadata": {},
   "outputs": [
    {
     "data": {
      "text/html": [
       "<table>\n",
       "    <thead>\n",
       "        <tr>\n",
       "            <th>tld</th>\n",
       "            <th>tld_count</th>\n",
       "        </tr>\n",
       "    </thead>\n",
       "    <tbody>\n",
       "        <tr>\n",
       "            <td>org</td>\n",
       "            <td>51</td>\n",
       "        </tr>\n",
       "        <tr>\n",
       "            <td>io</td>\n",
       "            <td>47</td>\n",
       "        </tr>\n",
       "        <tr>\n",
       "            <td>biz</td>\n",
       "            <td>47</td>\n",
       "        </tr>\n",
       "        <tr>\n",
       "            <td>name</td>\n",
       "            <td>46</td>\n",
       "        </tr>\n",
       "        <tr>\n",
       "            <td>info</td>\n",
       "            <td>45</td>\n",
       "        </tr>\n",
       "    </tbody>\n",
       "</table>"
      ],
      "text/plain": [
       "+------+-----------+\n",
       "|  tld | tld_count |\n",
       "+------+-----------+\n",
       "|  org |        51 |\n",
       "|   io |        47 |\n",
       "|  biz |        47 |\n",
       "| name |        46 |\n",
       "| info |        45 |\n",
       "+------+-----------+"
      ]
     },
     "execution_count": 8,
     "metadata": {},
     "output_type": "execute_result"
    }
   ],
   "source": [
    "%%sql\n",
    "SELECT\n",
    "    reverse(split(val.new_email_address,'\\\\.'))[0] tld,\n",
    "    count(1) tld_count\n",
    "FROM\n",
    "    `bufstream`.`email_updated`\n",
    "GROUP BY\n",
    "    tld\n",
    "ORDER BY\n",
    "    tld_count desc\n",
    "LIMIT 5"
   ]
  },
  {
   "cell_type": "code",
   "execution_count": null,
   "id": "f17adb04-1260-4b84-b5ac-46ba2412d5d4",
   "metadata": {},
   "outputs": [],
   "source": []
  },
  {
   "cell_type": "code",
   "execution_count": null,
   "id": "b3c6f86f-0a1b-45e6-95e3-d83de175d9b5",
   "metadata": {},
   "outputs": [],
   "source": []
  },
  {
   "cell_type": "code",
   "execution_count": null,
   "id": "2d08ca91-1586-42a6-8329-8f27dba038af",
   "metadata": {},
   "outputs": [],
   "source": []
  },
  {
   "cell_type": "code",
   "execution_count": null,
   "id": "cc718e5c-a5ad-4669-a832-08694e781584",
   "metadata": {},
   "outputs": [],
   "source": []
  }
 ],
 "metadata": {
  "kernelspec": {
   "display_name": "Python 3 (ipykernel)",
   "language": "python",
   "name": "python3"
  },
  "language_info": {
   "codemirror_mode": {
    "name": "ipython",
    "version": 3
   },
   "file_extension": ".py",
   "mimetype": "text/x-python",
   "name": "python",
   "nbconvert_exporter": "python",
   "pygments_lexer": "ipython3",
   "version": "3.10.16"
  }
 },
 "nbformat": 4,
 "nbformat_minor": 5
}
