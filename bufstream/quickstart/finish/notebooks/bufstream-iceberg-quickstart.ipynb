{
 "cells": [
  {
   "cell_type": "markdown",
   "id": "2b3b8256-432a-46a8-8542-837777aada52",
   "metadata": {},
   "source": [
    "# Bufstream Iceberg quickstart"
   ]
  },
  {
   "cell_type": "code",
   "execution_count": 1,
   "id": "e4d27656-867c-464e-a8c0-4b590fd7aae2",
   "metadata": {},
   "outputs": [
    {
     "name": "stderr",
     "output_type": "stream",
     "text": [
      "25/10/21 17:48:37 WARN SparkSession: Using an existing Spark session; only runtime SQL configurations will take effect.\n"
     ]
    }
   ],
   "source": [
    "from pyspark.sql import SparkSession\n",
    "\n",
    "conf = (\n",
    "    pyspark.SparkConf()\n",
    "        .setAppName('Jupyter')\n",
    "        .set(\"spark.sql.extensions\", \"org.apache.iceberg.spark.extensions.IcebergSparkSessionExtensions\")\n",
    "        .set(\"spark.sql.catalog.bufstream-quickstart\", \"org.apache.iceberg.spark.SparkCatalog\")\n",
    "        .set(\"spark.sql.catalog.bufstream-quickstart.type\", \"rest\")\n",
    "        .set(\"spark.sql.catalog.bufstream-quickstart.uri\", \"http://iceberg-rest:8181\")\n",
    ")\n",
    "spark = SparkSession.builder.config(conf=conf).getOrCreate()\n"
   ]
  },
  {
   "cell_type": "code",
   "execution_count": 2,
   "id": "892051d1-71da-44d2-9e20-3915988e205e",
   "metadata": {},
   "outputs": [
    {
     "data": {
      "text/html": [
       "<table>\n",
       "    <thead>\n",
       "        <tr>\n",
       "            <th>namespace</th>\n",
       "        </tr>\n",
       "    </thead>\n",
       "    <tbody>\n",
       "        <tr>\n",
       "            <td>bufstream</td>\n",
       "        </tr>\n",
       "    </tbody>\n",
       "</table>"
      ],
      "text/plain": [
       "+-----------+\n",
       "| namespace |\n",
       "+-----------+\n",
       "| bufstream |\n",
       "+-----------+"
      ]
     },
     "execution_count": 2,
     "metadata": {},
     "output_type": "execute_result"
    }
   ],
   "source": [
    "%%sql \n",
    "SHOW DATABASES;"
   ]
  },
  {
   "cell_type": "code",
   "execution_count": 3,
   "id": "345f8fef-9d1f-4cc5-8015-babdf4102988",
   "metadata": {},
   "outputs": [
    {
     "data": {
      "text/html": [
       "<table>\n",
       "    <thead>\n",
       "        <tr>\n",
       "            <th>namespace</th>\n",
       "            <th>tableName</th>\n",
       "            <th>isTemporary</th>\n",
       "        </tr>\n",
       "    </thead>\n",
       "    <tbody>\n",
       "        <tr>\n",
       "            <td>bufstream</td>\n",
       "            <td>invoice</td>\n",
       "            <td>False</td>\n",
       "        </tr>\n",
       "    </tbody>\n",
       "</table>"
      ],
      "text/plain": [
       "+-----------+-----------+-------------+\n",
       "| namespace | tableName | isTemporary |\n",
       "+-----------+-----------+-------------+\n",
       "| bufstream |   invoice |       False |\n",
       "+-----------+-----------+-------------+"
      ]
     },
     "execution_count": 3,
     "metadata": {},
     "output_type": "execute_result"
    }
   ],
   "source": [
    "%%sql\n",
    "SHOW TABLES in `bufstream`"
   ]
  },
  {
   "cell_type": "code",
   "execution_count": 25,
   "id": "5e440992-2309-4649-abb3-c22e10b57988",
   "metadata": {},
   "outputs": [
    {
     "data": {
      "text/html": [
       "<table>\n",
       "    <thead>\n",
       "        <tr>\n",
       "            <th>category</th>\n",
       "            <th>total_revenue_dollars</th>\n",
       "            <th>total_units_sold</th>\n",
       "        </tr>\n",
       "    </thead>\n",
       "    <tbody>\n",
       "        <tr>\n",
       "            <td>Books &amp; Stationery</td>\n",
       "            <td>586234.160000</td>\n",
       "            <td>21784</td>\n",
       "        </tr>\n",
       "        <tr>\n",
       "            <td>Electronics &amp; Accessories</td>\n",
       "            <td>625379.800000</td>\n",
       "            <td>21520</td>\n",
       "        </tr>\n",
       "        <tr>\n",
       "            <td>Home &amp; Garden</td>\n",
       "            <td>571721.850000</td>\n",
       "            <td>17615</td>\n",
       "        </tr>\n",
       "        <tr>\n",
       "            <td>Kitchen &amp; Dining</td>\n",
       "            <td>399166.480000</td>\n",
       "            <td>10552</td>\n",
       "        </tr>\n",
       "        <tr>\n",
       "            <td>Personal Care</td>\n",
       "            <td>272985.060000</td>\n",
       "            <td>11794</td>\n",
       "        </tr>\n",
       "        <tr>\n",
       "            <td>Sports &amp; Outdoors</td>\n",
       "            <td>509665.440000</td>\n",
       "            <td>13056</td>\n",
       "        </tr>\n",
       "        <tr>\n",
       "            <td>None</td>\n",
       "            <td>2965152.790000</td>\n",
       "            <td>96321</td>\n",
       "        </tr>\n",
       "    </tbody>\n",
       "</table>"
      ],
      "text/plain": [
       "+---------------------------+-----------------------+------------------+\n",
       "|                  category | total_revenue_dollars | total_units_sold |\n",
       "+---------------------------+-----------------------+------------------+\n",
       "|        Books & Stationery |         586234.160000 |            21784 |\n",
       "| Electronics & Accessories |         625379.800000 |            21520 |\n",
       "|             Home & Garden |         571721.850000 |            17615 |\n",
       "|          Kitchen & Dining |         399166.480000 |            10552 |\n",
       "|             Personal Care |         272985.060000 |            11794 |\n",
       "|         Sports & Outdoors |         509665.440000 |            13056 |\n",
       "|                      None |        2965152.790000 |            96321 |\n",
       "+---------------------------+-----------------------+------------------+"
      ]
     },
     "execution_count": 25,
     "metadata": {},
     "output_type": "execute_result"
    }
   ],
   "source": [
    "%%sql\n",
    "SELECT \n",
    "    line_item.product.category.name AS category,\n",
    "    SUM(line_item.quantity * line_item.unit_price_cents) / 100.0 AS total_revenue_dollars,\n",
    "    SUM(line_item.quantity) AS total_units_sold\n",
    "FROM `bufstream`.`invoice`\n",
    "LATERAL VIEW EXPLODE(val.line_items) AS line_item\n",
    "GROUP BY category WITH ROLLUP\n",
    "ORDER BY \n",
    "    CASE WHEN category IS NULL THEN 1 ELSE 0 END,\n",
    "    category\n"
   ]
  },
  {
   "cell_type": "code",
   "execution_count": 30,
   "id": "0284c983-1e9d-49d4-847c-aaaeb3b1d4ee",
   "metadata": {},
   "outputs": [
    {
     "data": {
      "text/html": [
       "<table>\n",
       "    <thead>\n",
       "        <tr>\n",
       "            <th>category</th>\n",
       "            <th>total_revenue_dollars</th>\n",
       "            <th>num_invoices</th>\n",
       "            <th>total_units_sold</th>\n",
       "        </tr>\n",
       "    </thead>\n",
       "    <tbody>\n",
       "        <tr>\n",
       "            <td>Sports &amp; Outdoors</td>\n",
       "            <td>509665.440000</td>\n",
       "            <td>5160</td>\n",
       "            <td>13056</td>\n",
       "        </tr>\n",
       "        <tr>\n",
       "            <td>Books &amp; Stationery</td>\n",
       "            <td>586234.160000</td>\n",
       "            <td>4677</td>\n",
       "            <td>21784</td>\n",
       "        </tr>\n",
       "        <tr>\n",
       "            <td>Home &amp; Garden</td>\n",
       "            <td>571721.850000</td>\n",
       "            <td>5255</td>\n",
       "            <td>17615</td>\n",
       "        </tr>\n",
       "        <tr>\n",
       "            <td>Electronics &amp; Accessories</td>\n",
       "            <td>625379.800000</td>\n",
       "            <td>5163</td>\n",
       "            <td>21520</td>\n",
       "        </tr>\n",
       "        <tr>\n",
       "            <td>Personal Care</td>\n",
       "            <td>272985.060000</td>\n",
       "            <td>4115</td>\n",
       "            <td>11794</td>\n",
       "        </tr>\n",
       "        <tr>\n",
       "            <td>Kitchen &amp; Dining</td>\n",
       "            <td>399166.480000</td>\n",
       "            <td>4635</td>\n",
       "            <td>10552</td>\n",
       "        </tr>\n",
       "    </tbody>\n",
       "</table>"
      ],
      "text/plain": [
       "+---------------------------+-----------------------+--------------+------------------+\n",
       "|                  category | total_revenue_dollars | num_invoices | total_units_sold |\n",
       "+---------------------------+-----------------------+--------------+------------------+\n",
       "|         Sports & Outdoors |         509665.440000 |         5160 |            13056 |\n",
       "|        Books & Stationery |         586234.160000 |         4677 |            21784 |\n",
       "|             Home & Garden |         571721.850000 |         5255 |            17615 |\n",
       "| Electronics & Accessories |         625379.800000 |         5163 |            21520 |\n",
       "|             Personal Care |         272985.060000 |         4115 |            11794 |\n",
       "|          Kitchen & Dining |         399166.480000 |         4635 |            10552 |\n",
       "+---------------------------+-----------------------+--------------+------------------+"
      ]
     },
     "execution_count": 30,
     "metadata": {},
     "output_type": "execute_result"
    }
   ],
   "source": [
    "%%sql\n",
    "SELECT \n",
    "    line_item.product.category.name AS category,\n",
    "    SUM(line_item.quantity * line_item.unit_price_cents) / 100.0 AS total_revenue_dollars,\n",
    "    COUNT(DISTINCT val.invoice_id) AS num_invoices,\n",
    "    SUM(line_item.quantity) AS total_units_sold\n",
    "FROM `bufstream`.`invoice`\n",
    "LATERAL VIEW EXPLODE(val.line_items) AS line_item\n",
    "GROUP BY category\n",
    "\n",
    "\n"
   ]
  }
 ],
 "metadata": {
  "kernelspec": {
   "display_name": "Python 3 (ipykernel)",
   "language": "python",
   "name": "python3"
  },
  "language_info": {
   "codemirror_mode": {
    "name": "ipython",
    "version": 3
   },
   "file_extension": ".py",
   "mimetype": "text/x-python",
   "name": "python",
   "nbconvert_exporter": "python",
   "pygments_lexer": "ipython3",
   "version": "3.10.16"
  }
 },
 "nbformat": 4,
 "nbformat_minor": 5
}
