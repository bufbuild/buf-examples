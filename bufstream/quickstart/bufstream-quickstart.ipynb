{
 "cells": [
  {
   "cell_type": "markdown",
   "id": "2b3b8256-432a-46a8-8542-837777aada52",
   "metadata": {},
   "source": [
    "# Bufstream Iceberg quickstart"
   ]
  },
  {
   "cell_type": "code",
   "execution_count": null,
   "id": "e4d27656-867c-464e-a8c0-4b590fd7aae2",
   "metadata": {},
   "outputs": [],
   "source": [
    "from pyspark.sql import SparkSession\n",
    "\n",
    "conf = (\n",
    "    pyspark.SparkConf()\n",
    "        .setAppName('Jupyter')\n",
    "        .set(\"spark.sql.extensions\", \"org.apache.iceberg.spark.extensions.IcebergSparkSessionExtensions\")\n",
    "        .set(\"spark.sql.catalog.bufstream-quickstart\", \"org.apache.iceberg.spark.SparkCatalog\")\n",
    "        .set(\"spark.sql.catalog.bufstream-quickstart.type\", \"rest\")\n",
    "        .set(\"spark.sql.catalog.bufstream-quickstart.uri\", \"http://iceberg-rest:8181\")\n",
    ")\n",
    "spark = SparkSession.builder.config(conf=conf).getOrCreate()\n"
   ]
  },
  {
   "cell_type": "code",
   "execution_count": null,
   "id": "0284c983-1e9d-49d4-847c-aaaeb3b1d4ee",
   "metadata": {},
   "outputs": [],
   "source": [
    "%%sql\n",
    "WITH categories AS (\n",
    "    SELECT \n",
    "        line_item.product.category.name AS category,\n",
    "        SUM(line_item.quantity * line_item.unit_price_cents) / 100.0 AS revenue,\n",
    "        COUNT(DISTINCT val.cart_id) AS carts,\n",
    "        SUM(line_item.quantity) AS units_sold\n",
    "    FROM `shopping`.`cart`\n",
    "    LATERAL VIEW EXPLODE(val.line_items) AS line_item\n",
    "    GROUP BY category\n",
    "),\n",
    "totals AS (\n",
    "    SELECT \n",
    "        'TOTAL' AS category,\n",
    "        SUM(revenue) AS revenue,\n",
    "        -- We can't just SUM() carts: one cart may have items from multiple categories.\n",
    "        (SELECT(COUNT(DISTINCT val.cart_id)) AS carts FROM `shopping`.`cart`) AS carts,\n",
    "        SUM(units_sold) AS units_sold\n",
    "    FROM categories\n",
    ")\n",
    "SELECT\n",
    "    category,\n",
    "    FORMAT_NUMBER(revenue, 2) as revenue,\n",
    "    FORMAT_NUMBER(carts, 0) as carts,\n",
    "    FORMAT_NUMBER(units_sold, 0) as units_sold\n",
    "FROM (\n",
    "    SELECT * FROM categories\n",
    "    UNION ALL\n",
    "    SELECT * FROM totals\n",
    ")    \n",
    "ORDER BY \n",
    "    CASE WHEN category = 'TOTAL' THEN 1 ELSE 0 END,\n",
    "    category DESC;\n"
   ]
  }
 ],
 "metadata": {
  "kernelspec": {
   "display_name": "Python 3 (ipykernel)",
   "language": "python",
   "name": "python3"
  },
  "language_info": {
   "codemirror_mode": {
    "name": "ipython",
    "version": 3
   },
   "file_extension": ".py",
   "mimetype": "text/x-python",
   "name": "python",
   "nbconvert_exporter": "python",
   "pygments_lexer": "ipython3",
   "version": "3.10.16"
  }
 },
 "nbformat": 4,
 "nbformat_minor": 5
}
