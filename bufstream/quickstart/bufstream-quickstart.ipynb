{
 "cells": [
  {
   "cell_type": "markdown",
   "id": "2b3b8256-432a-46a8-8542-837777aada52",
   "metadata": {},
   "source": [
    "# Bufstream Iceberg quickstart"
   ]
  },
  {
   "cell_type": "code",
   "execution_count": null,
   "id": "e4d27656-867c-464e-a8c0-4b590fd7aae2",
   "metadata": {},
   "outputs": [],
   "source": [
    "from pyspark.sql import SparkSession\n",
    "\n",
    "conf = (\n",
    "    pyspark.SparkConf()\n",
    "        .setAppName('Jupyter')\n",
    "        .set(\"spark.sql.extensions\", \"org.apache.iceberg.spark.extensions.IcebergSparkSessionExtensions\")\n",
    "        .set(\"spark.sql.catalog.bufstream-quickstart\", \"org.apache.iceberg.spark.SparkCatalog\")\n",
    "        .set(\"spark.sql.catalog.bufstream-quickstart.type\", \"rest\")\n",
    "        .set(\"spark.sql.catalog.bufstream-quickstart.uri\", \"http://iceberg-rest:8181\")\n",
    ")\n",
    "spark = SparkSession.builder.config(conf=conf).getOrCreate()\n"
   ]
  },
  {
   "cell_type": "code",
   "execution_count": null,
   "id": "892051d1-71da-44d2-9e20-3915988e205e",
   "metadata": {},
   "outputs": [],
   "source": [
    "%%sql \n",
    "SHOW DATABASES;"
   ]
  },
  {
   "cell_type": "code",
   "execution_count": null,
   "id": "345f8fef-9d1f-4cc5-8015-babdf4102988",
   "metadata": {},
   "outputs": [],
   "source": [
    "%%sql\n",
    "SHOW TABLES in `bufstream`"
   ]
  },
  {
   "cell_type": "code",
   "execution_count": 1,
   "id": "0284c983-1e9d-49d4-847c-aaaeb3b1d4ee",
   "metadata": {},
   "outputs": [
    {
     "name": "stderr",
     "output_type": "stream",
     "text": [
      "25/10/21 19:50:34 WARN SparkSession: Using an existing Spark session; only runtime SQL configurations will take effect.\n",
      "                                                                                "
     ]
    },
    {
     "data": {
      "text/html": [
       "<table>\n",
       "    <thead>\n",
       "        <tr>\n",
       "            <th>category</th>\n",
       "            <th>total_revenue_dollars</th>\n",
       "            <th>num_invoices</th>\n",
       "            <th>total_units_sold</th>\n",
       "        </tr>\n",
       "    </thead>\n",
       "    <tbody>\n",
       "        <tr>\n",
       "            <td>Electronics &amp; Accessories</td>\n",
       "            <td>446101.980000</td>\n",
       "            <td>3804</td>\n",
       "            <td>15302</td>\n",
       "        </tr>\n",
       "        <tr>\n",
       "            <td>Home &amp; Garden</td>\n",
       "            <td>408217.520000</td>\n",
       "            <td>3889</td>\n",
       "            <td>12548</td>\n",
       "        </tr>\n",
       "        <tr>\n",
       "            <td>Books &amp; Stationery</td>\n",
       "            <td>393798.300000</td>\n",
       "            <td>3406</td>\n",
       "            <td>14670</td>\n",
       "        </tr>\n",
       "        <tr>\n",
       "            <td>Sports &amp; Outdoors</td>\n",
       "            <td>362286.870000</td>\n",
       "            <td>3874</td>\n",
       "            <td>9313</td>\n",
       "        </tr>\n",
       "        <tr>\n",
       "            <td>Kitchen &amp; Dining</td>\n",
       "            <td>288191.780000</td>\n",
       "            <td>3507</td>\n",
       "            <td>7622</td>\n",
       "        </tr>\n",
       "        <tr>\n",
       "            <td>Personal Care</td>\n",
       "            <td>193034.540000</td>\n",
       "            <td>3072</td>\n",
       "            <td>8346</td>\n",
       "        </tr>\n",
       "        <tr>\n",
       "            <td>TOTAL</td>\n",
       "            <td>2091630.990000</td>\n",
       "            <td>21552</td>\n",
       "            <td>67801</td>\n",
       "        </tr>\n",
       "    </tbody>\n",
       "</table>"
      ],
      "text/plain": [
       "+---------------------------+-----------------------+--------------+------------------+\n",
       "|                  category | total_revenue_dollars | num_invoices | total_units_sold |\n",
       "+---------------------------+-----------------------+--------------+------------------+\n",
       "| Electronics & Accessories |         446101.980000 |         3804 |            15302 |\n",
       "|             Home & Garden |         408217.520000 |         3889 |            12548 |\n",
       "|        Books & Stationery |         393798.300000 |         3406 |            14670 |\n",
       "|         Sports & Outdoors |         362286.870000 |         3874 |             9313 |\n",
       "|          Kitchen & Dining |         288191.780000 |         3507 |             7622 |\n",
       "|             Personal Care |         193034.540000 |         3072 |             8346 |\n",
       "|                     TOTAL |        2091630.990000 |        21552 |            67801 |\n",
       "+---------------------------+-----------------------+--------------+------------------+"
      ]
     },
     "execution_count": 1,
     "metadata": {},
     "output_type": "execute_result"
    }
   ],
   "source": [
    "%%sql\n",
    "WITH category_totals AS (\n",
    "    SELECT \n",
    "        line_item.product.category.name AS category,\n",
    "        SUM(line_item.quantity * line_item.unit_price_cents) / 100.0 AS total_revenue_dollars,\n",
    "        COUNT(DISTINCT val.invoice_id) AS num_invoices,\n",
    "        SUM(line_item.quantity) AS total_units_sold\n",
    "    FROM `bufstream`.`invoice`\n",
    "    LATERAL VIEW EXPLODE(val.line_items) AS line_item\n",
    "    GROUP BY category\n",
    "),\n",
    "grand_total AS (\n",
    "    SELECT \n",
    "        'TOTAL' AS category,\n",
    "        SUM(total_revenue_dollars) AS total_revenue_dollars,\n",
    "        SUM(num_invoices) AS num_invoices,\n",
    "        SUM(total_units_sold) AS total_units_sold\n",
    "    FROM category_totals\n",
    ")\n",
    "SELECT * FROM category_totals\n",
    "UNION ALL\n",
    "SELECT * FROM grand_total\n",
    "ORDER BY \n",
    "    CASE WHEN category = 'TOTAL' THEN 1 ELSE 0 END,\n",
    "    total_revenue_dollars DESC;\n",
    "\n"
   ]
  }
 ],
 "metadata": {
  "kernelspec": {
   "display_name": "Python 3 (ipykernel)",
   "language": "python",
   "name": "python3"
  },
  "language_info": {
   "codemirror_mode": {
    "name": "ipython",
    "version": 3
   },
   "file_extension": ".py",
   "mimetype": "text/x-python",
   "name": "python",
   "nbconvert_exporter": "python",
   "pygments_lexer": "ipython3",
   "version": "3.10.16"
  }
 },
 "nbformat": 4,
 "nbformat_minor": 5
}
