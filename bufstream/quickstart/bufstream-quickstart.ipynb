{
 "cells": [
  {
   "cell_type": "markdown",
   "id": "2b3b8256-432a-46a8-8542-837777aada52",
   "metadata": {},
   "source": [
    "# Bufstream Iceberg quickstart"
   ]
  },
  {
   "cell_type": "code",
   "execution_count": null,
   "id": "e4d27656-867c-464e-a8c0-4b590fd7aae2",
   "metadata": {},
   "outputs": [],
   "source": [
    "from pyspark.sql import SparkSession\n",
    "\n",
    "conf = (\n",
    "    pyspark.SparkConf()\n",
    "        .setAppName('Jupyter')\n",
    "        .set(\"spark.sql.extensions\", \"org.apache.iceberg.spark.extensions.IcebergSparkSessionExtensions\")\n",
    "        .set(\"spark.sql.catalog.bufstream-quickstart\", \"org.apache.iceberg.spark.SparkCatalog\")\n",
    "        .set(\"spark.sql.catalog.bufstream-quickstart.type\", \"rest\")\n",
    "        .set(\"spark.sql.catalog.bufstream-quickstart.uri\", \"http://iceberg-rest:8181\")\n",
    ")\n",
    "spark = SparkSession.builder.config(conf=conf).getOrCreate()\n"
   ]
  },
  {
   "cell_type": "code",
   "execution_count": null,
   "id": "0284c983-1e9d-49d4-847c-aaaeb3b1d4ee",
   "metadata": {},
   "outputs": [],
   "source": [
    "%%sql\n",
    "WITH category_totals AS (\n",
    "    SELECT \n",
    "        line_item.product.category.name AS category,\n",
    "        SUM(line_item.quantity * line_item.unit_price_cents) / 100.0 AS total_revenue_dollars,\n",
    "        COUNT(DISTINCT val.cart_id) AS carts,\n",
    "        SUM(line_item.quantity) AS total_units_sold\n",
    "    FROM `shopping`.`cart`\n",
    "    LATERAL VIEW EXPLODE(val.line_items) AS line_item\n",
    "    GROUP BY category\n",
    "),\n",
    "grand_total AS (\n",
    "    SELECT \n",
    "        'TOTAL' AS category,\n",
    "        SUM(total_revenue_dollars) AS total_revenue_dollars,\n",
    "        SUM(carts) AS total_checkouts,\n",
    "        SUM(total_units_sold) AS total_units_sold\n",
    "    FROM category_totals\n",
    ")\n",
    "SELECT * FROM category_totals\n",
    "UNION ALL\n",
    "SELECT * FROM grand_total\n",
    "ORDER BY \n",
    "    CASE WHEN category = 'TOTAL' THEN 1 ELSE 0 END,\n",
    "    total_revenue_dollars DESC;\n"
   ]
  }
 ],
 "metadata": {
  "kernelspec": {
   "display_name": "Python 3 (ipykernel)",
   "language": "python",
   "name": "python3"
  },
  "language_info": {
   "codemirror_mode": {
    "name": "ipython",
    "version": 3
   },
   "file_extension": ".py",
   "mimetype": "text/x-python",
   "name": "python",
   "nbconvert_exporter": "python",
   "pygments_lexer": "ipython3",
   "version": "3.10.16"
  }
 },
 "nbformat": 4,
 "nbformat_minor": 5
}
